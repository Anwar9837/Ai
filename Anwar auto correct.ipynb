{
  "metadata": {
    "language_info": {
      "codemirror_mode": {
        "name": "python",
        "version": 3
      },
      "file_extension": ".py",
      "mimetype": "text/x-python",
      "name": "python",
      "nbconvert_exporter": "python",
      "pygments_lexer": "ipython3",
      "version": "3.8"
    },
    "kernelspec": {
      "name": "python",
      "display_name": "Python (Pyodide)",
      "language": "python"
    }
  },
  "nbformat_minor": 4,
  "nbformat": 4,
  "cells": [
    {
      "cell_type": "code",
      "source": "from difflib import get_close_matches\n\n# List of words for reference\nword_list = [\"apple\", \"banana\", \"cherry\", \"grape\", \"orange\", \"pear\", \"pineapple\"]\n\n# Function to perform auto-correction\ndef auto_correct(input_word):\n    closest_match = get_close_matches(input_word, word_list)\n    \n    if closest_match:\n        return closest_match[0]\n    else:\n        return \"No suggestion\"\n\n# Test the auto-correct tool\ninput_word = \"oraneg\"\ncorrected_word = auto_correct(input_word)\nprint(f\"Original Word: {input_word}\")\nprint(f\"Corrected Word: {corrected_word}\")\n",
      "metadata": {},
      "execution_count": null,
      "outputs": []
    }
  ]
}