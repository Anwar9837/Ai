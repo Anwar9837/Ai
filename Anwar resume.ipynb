{
  "metadata": {
    "language_info": {
      "codemirror_mode": {
        "name": "python",
        "version": 3
      },
      "file_extension": ".py",
      "mimetype": "text/x-python",
      "name": "python",
      "nbconvert_exporter": "python",
      "pygments_lexer": "ipython3",
      "version": "3.8"
    },
    "kernelspec": {
      "name": "python",
      "display_name": "Python (Pyodide)",
      "language": "python"
    }
  },
  "nbformat_minor": 4,
  "nbformat": 4,
  "cells": [
    {
      "cell_type": "code",
      "source": "import nltk\nfrom nltk.corpus import stopwords\nfrom nltk.tokenize import word_tokenize, sent_tokenize\n\n# Sample job description and keywords\njob_description = \"We are looking for a software engineer with experience in Python, Django, and web development.\"\nkeywords = [\"software engineer\", \"Python\", \"Django\", \"web development\"]\n\n# Preprocess the job description and keywords\njob_description = job_description.lower()\nkeywords = [keyword.lower() for keyword in keywords]\n",
      "metadata": {
        "trusted": true
      },
      "execution_count": null,
      "outputs": []
    },
    {
      "cell_type": "code",
      "source": "\n# Load NLTK stopwords\nnltk.download('stopwords')\nnltk.download('punkt')\nstop_words = set(stopwords.words(\"english\"))\n\n# Sample resumes to process\nresumes = [\n    \"I am a software developer with experience in Python and Django.\",\n    \"Web development is my passion. I have worked with Django and Flask.\",\n    \"I am a mechanical engineer with a background in robotics.\",\n    \"Experienced web developer proficient in Python, JavaScript, and Django.\"\n]\n",
      "metadata": {
        "trusted": true
      },
      "execution_count": null,
      "outputs": []
    },
    {
      "cell_type": "code",
      "source": "\n# Initialize a list to store matching candidates\nmatching_candidates = []\n\n# Process each resume\nfor resume in resumes:\n    resume = resume.lower()\n    words = word_tokenize(resume)\n    filtered_words = [word for word in words if word not in stop_words]\n\n    # Check for keyword matches\n    match_count = sum(1 for keyword in keywords if keyword in filtered_words)\n    if match_count >= len(keywords) * 0.5:  # Adjust the threshold as needed\n        matching_candidates.append(resume)\n",
      "metadata": {
        "trusted": true
      },
      "execution_count": null,
      "outputs": []
    },
    {
      "cell_type": "code",
      "source": "\n# Print the matching candidates\nprint(\"Matching candidates:\")\nfor i, candidate in enumerate(matching_candidates, start=1):\n    print(f\"Candidate {i}: {candidate}\")\n",
      "metadata": {},
      "execution_count": null,
      "outputs": []
    }
  ]
}